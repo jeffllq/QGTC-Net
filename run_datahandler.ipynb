{
 "cells": [
  {
   "cell_type": "code",
   "execution_count": 10,
   "id": "d849133d-4b9b-41f3-9d95-ff5d6319e361",
   "metadata": {},
   "outputs": [
    {
     "name": "stdout",
     "output_type": "stream",
     "text": [
      "Process finished with return code 0\n",
      "Process finished with return code 0\n",
      "Process finished with return code 0\n",
      "Process finished with return code 0\n",
      "All dataset process finished!\n"
     ]
    }
   ],
   "source": [
    "import subprocess\n",
    "from concurrent.futures import ProcessPoolExecutor, as_completed\n",
    "\n",
    "# 定义参数组合\n",
    "param_combinations = [\n",
    "    {\n",
    "        \"gpu\": \"1\",\n",
    "        # \"dataset\": \"ICEWS14cut\",\n",
    "        \"max-relations\":\"10\"\n",
    "    },\n",
    "        {\n",
    "        \"gpu\": \"1\",\n",
    "        # \"dataset\": \"ICEWS14cut\",\n",
    "        \"max-relations\":\"20\"\n",
    "    },\n",
    "        {\n",
    "        \"gpu\": \"1\",\n",
    "        # \"dataset\": \"ICEWS14cut\",\n",
    "        \"max-relations\":\"30\"\n",
    "    },    {\n",
    "        \"gpu\": \"1\",\n",
    "        # \"dataset\": \"ICEWS14cut\",\n",
    "        \"max-relations\":\"50\"\n",
    "    }\n",
    "\n",
    "    # 添加更多参数组合\n",
    "]\n",
    "\n",
    "# 将参数组合转换为命令行参数列表\n",
    "def create_command(params):\n",
    "    command = [\"python\", \"../DataHandler.py\"]\n",
    "    for key, value in params.items():\n",
    "        command.append(f\"--{key}\")\n",
    "        command.append(str(value))\n",
    "    return command\n",
    "\n",
    "# 执行单个命令的函数\n",
    "def run_command(command):\n",
    "    with open('nohup_handler.out', 'a') as f:\n",
    "        result = subprocess.run(command, stdout=f, stderr=subprocess.STDOUT, text=True)\n",
    "    return result.returncode\n",
    "\n",
    "# 使用 ProcessPoolExecutor 并行执行命令\n",
    "with ProcessPoolExecutor(max_workers=len(param_combinations)) as executor:\n",
    "    commands = [create_command(params) for params in param_combinations]\n",
    "    futures = [executor.submit(run_command, cmd) for cmd in commands]\n",
    "    for future in as_completed(futures):\n",
    "        returncode = future.result()\n",
    "        print(f\"Process finished with return code {returncode}\")\n",
    "    print(\"All dataset process finished!\")"
   ]
  },
  {
   "cell_type": "code",
   "execution_count": null,
   "id": "ab5e18b4-0712-44b5-a072-c53464c7b671",
   "metadata": {},
   "outputs": [],
   "source": []
  },
  {
   "cell_type": "code",
   "execution_count": null,
   "id": "478cad4b-da0f-433a-808a-c045ab53b418",
   "metadata": {},
   "outputs": [],
   "source": []
  }
 ],
 "metadata": {
  "kernelspec": {
   "display_name": "Python 3 (ipykernel)",
   "language": "python",
   "name": "python3"
  },
  "language_info": {
   "codemirror_mode": {
    "name": "ipython",
    "version": 3
   },
   "file_extension": ".py",
   "mimetype": "text/x-python",
   "name": "python",
   "nbconvert_exporter": "python",
   "pygments_lexer": "ipython3",
   "version": "3.9.18"
  }
 },
 "nbformat": 4,
 "nbformat_minor": 5
}
